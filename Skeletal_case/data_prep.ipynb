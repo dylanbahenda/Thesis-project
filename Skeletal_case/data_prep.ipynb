{
 "cells": [
  {
   "cell_type": "code",
   "execution_count": 1,
   "id": "5a37f9c1",
   "metadata": {},
   "outputs": [
    {
     "name": "stderr",
     "output_type": "stream",
     "text": [
      "c:\\Users\\ENVY\\OneDrive - Università degli Studi di Milano\\Uni\\Thesis\\Project\\.venv\\Lib\\site-packages\\tqdm\\auto.py:21: TqdmWarning: IProgress not found. Please update jupyter and ipywidgets. See https://ipywidgets.readthedocs.io/en/stable/user_install.html\n",
      "  from .autonotebook import tqdm as notebook_tqdm\n"
     ]
    }
   ],
   "source": [
    "import os\n",
    "import pickle\n",
    "import pandas as pd\n",
    "from sklearn.model_selection import train_test_split\n",
    "import torch\n",
    "from torch.utils.data import Dataset\n",
    "from PIL import Image\n",
    "import matplotlib.pyplot as plt\n",
    "from torchvision import transforms\n",
    "from transformers import AutoTokenizer, DeiTFeatureExtractor"
   ]
  },
  {
   "cell_type": "code",
   "execution_count": 2,
   "id": "b83da034",
   "metadata": {},
   "outputs": [],
   "source": [
    "# Load Excel\n",
    "df = pd.read_excel(\"AI FRACTURES/Fratture AI.xlsx\")\n",
    "\n",
    "# Create binary labels\n",
    "labels = [1 if row[\"FRATTURA SI\"] == \"x\" else 0 for _, row in df.iterrows()]\n",
    "case_ids = [f\"riga {i + 2}\" for i in range(len(labels))]  # Matches your folder names"
   ]
  },
  {
   "cell_type": "code",
   "execution_count": 3,
   "id": "ad786e0b",
   "metadata": {},
   "outputs": [
    {
     "data": {
      "text/plain": [
       "(50, 49)"
      ]
     },
     "execution_count": 3,
     "metadata": {},
     "output_type": "execute_result"
    }
   ],
   "source": [
    "labels.count(1), labels.count(0)"
   ]
  },
  {
   "cell_type": "code",
   "execution_count": 4,
   "id": "cf1dc56b",
   "metadata": {},
   "outputs": [],
   "source": [
    "train_data, test_data, train_labels, test_labels = train_test_split(\n",
    "    case_ids,\n",
    "    labels,\n",
    "    test_size=0.2,  # 80/20 split\n",
    "    stratify=labels,  # keep fracture/no fracture ratio\n",
    "    random_state=42\n",
    ")\n",
    "\n",
    "test_data, val_data, test_labels, val_labels = train_test_split(\n",
    "    test_data,\n",
    "    test_labels,\n",
    "    test_size=0.5,  # 50/50 split for validation\n",
    "    stratify=test_labels,  # keep fracture/no fracture ratio\n",
    "    random_state=42\n",
    ")"
   ]
  },
  {
   "cell_type": "code",
   "execution_count": 5,
   "id": "bb56d2a6",
   "metadata": {},
   "outputs": [],
   "source": [
    "split_data = {\n",
    "    \"train\": train_data,\n",
    "    \"test\": test_data,\n",
    "    \"train_labels\": train_labels,\n",
    "    \"test_labels\": test_labels,\n",
    "    \"val\": val_data,\n",
    "    \"val_labels\": val_labels\n",
    "}\n",
    "\n",
    "with open(\"fracture_data_split.pkl\", \"wb\") as f:\n",
    "    pickle.dump(split_data, f)"
   ]
  },
  {
   "cell_type": "code",
   "execution_count": 6,
   "id": "e3baa9dc",
   "metadata": {},
   "outputs": [],
   "source": [
    "import pickle\n",
    "\n",
    "with open(\"fracture_data_split.pkl\", \"rb\") as f:\n",
    "    split_data = pickle.load(f)\n",
    "\n",
    "train_data = split_data[\"train\"]\n",
    "test_data = split_data[\"test\"]\n",
    "train_labels = split_data[\"train_labels\"]\n",
    "test_labels = split_data[\"test_labels\"]\n",
    "val_data = split_data[\"val\"]\n",
    "val_labels = split_data[\"val_labels\"]"
   ]
  },
  {
   "cell_type": "code",
   "execution_count": 7,
   "id": "f1c1156e",
   "metadata": {},
   "outputs": [
    {
     "name": "stderr",
     "output_type": "stream",
     "text": [
      "c:\\Users\\ENVY\\OneDrive - Università degli Studi di Milano\\Uni\\Thesis\\Project\\.venv\\Lib\\site-packages\\transformers\\models\\deit\\feature_extraction_deit.py:30: FutureWarning: The class DeiTFeatureExtractor is deprecated and will be removed in version 5 of Transformers. Please use DeiTImageProcessor instead.\n",
      "  warnings.warn(\n"
     ]
    }
   ],
   "source": [
    "feature_extractor = DeiTFeatureExtractor.from_pretrained(\"facebook/deit-tiny-patch16-224\")\n",
    "\n",
    "image_transform = transforms.Compose([\n",
    "    transforms.Grayscale(num_output_channels=3),\n",
    "    transforms.Resize((224, 224)),\n",
    "    transforms.ToTensor(),\n",
    "    transforms.Normalize(mean=feature_extractor.image_mean, std=feature_extractor.image_std)\n",
    "])\n",
    "\n",
    "tokenizer = AutoTokenizer.from_pretrained(\"huawei-noah/TinyBERT_General_4L_312D\")\n",
    "\n",
    "root_dir = \"AI FRACTURES\""
   ]
  },
  {
   "cell_type": "code",
   "execution_count": 8,
   "id": "e5b3ab8b",
   "metadata": {},
   "outputs": [],
   "source": [
    "class FractureDataset(Dataset):\n",
    "    def __init__(self, case_ids, labels, root_dir, image_transform, tokenizer, max_token_len=40):\n",
    "        self.case_ids = case_ids\n",
    "        self.labels = labels\n",
    "        self.root_dir = root_dir\n",
    "        self.image_transform = image_transform\n",
    "        self.tokenizer = tokenizer\n",
    "        self.max_token_len = max_token_len\n",
    "\n",
    "    def __len__(self):\n",
    "        return len(self.data_list)\n",
    "\n",
    "    def __getitem__(self, idx):\n",
    "        case_id, label = self.case_ids[idx], self.labels[idx]\n",
    "        case_folder = os.path.join(self.root_dir, case_id)\n",
    "        subfolders = os.listdir(case_folder)\n",
    "        assert len(subfolders) == 1, f\"Expected 1 subfolder in {case_folder}, found {subfolders}\"\n",
    "        inner_folder = os.path.join(case_folder, subfolders[0])\n",
    "\n",
    "        # Load images\n",
    "        image_paths = [os.path.join(inner_folder, f) for f in os.listdir(inner_folder) if f.endswith('.jpg')]\n",
    "        images = []\n",
    "        for image_path in image_paths:\n",
    "            image = Image.open(image_path)\n",
    "            if self.image_transform:\n",
    "                image = self.image_transform(image)\n",
    "                image = torch.clamp(image, 0.0, 1.0)\n",
    "            images.append(image)\n",
    "\n",
    "        # Load text\n",
    "        text_file = next((f for f in os.listdir(inner_folder) if f.endswith(\".txt\")), None)\n",
    "        assert text_file is not None, f\"No text file found in {inner_folder}\"\n",
    "        with open(os.path.join(inner_folder, text_file), \"r\", encoding=\"utf-8\") as f:\n",
    "            full_text = f.read().strip()\n",
    "\n",
    "        tokenized = self.tokenizer(\n",
    "            full_text,\n",
    "            padding=\"max_length\",\n",
    "            truncation=True,\n",
    "            max_length=self.max_token_len,\n",
    "            return_tensors=\"pt\"\n",
    "        )\n",
    "        input_ids = tokenized[\"input_ids\"].squeeze(0)\n",
    "        attention_mask = tokenized[\"attention_mask\"].squeeze(0)\n",
    "\n",
    "        label = torch.tensor(label, dtype=torch.long)\n",
    "\n",
    "        return {\n",
    "            \"pixel_values\": images,\n",
    "            \"text\": full_text,\n",
    "            \"input_ids\": input_ids,\n",
    "            \"attention_mask\": attention_mask,\n",
    "            \"label\": label,\n",
    "            \"case_id\": case_id\n",
    "        }\n",
    "\n",
    "train_dataset = FractureDataset(train_data, train_labels, root_dir, image_transform, tokenizer)\n",
    "test_dataset  = FractureDataset(test_data, test_labels, root_dir, image_transform, tokenizer)\n",
    "val_dataset  = FractureDataset(val_data, val_labels, root_dir, image_transform, tokenizer)"
   ]
  },
  {
   "cell_type": "code",
   "execution_count": 9,
   "id": "6e36fc38",
   "metadata": {},
   "outputs": [
    {
     "name": "stdout",
     "output_type": "stream",
     "text": [
      "Sample case ID: riga 32\n",
      "Sample label: 0\n",
      "Number of images: 2\n",
      "Image shapes: [torch.Size([3, 224, 224]), torch.Size([3, 224, 224])]\n",
      "Input IDs shape: torch.Size([40])\n",
      "Attention mask shape: torch.Size([40])\n"
     ]
    }
   ],
   "source": [
    "sample = train_dataset[0]  # Example to access the first item in the dataset\n",
    "print(f\"Sample case ID: {sample['case_id']}\")\n",
    "print(f\"Sample label: {sample['label'].item()}\")\n",
    "print(f\"Number of images: {len(sample['pixel_values'])}\")\n",
    "print(f\"Image shapes: {[img.shape for img in sample['pixel_values']]}\")  # Print shapes of images\n",
    "print(f\"Input IDs shape: {sample['input_ids'].shape}\")\n",
    "print(f\"Attention mask shape: {sample['attention_mask'].shape}\")"
   ]
  },
  {
   "cell_type": "code",
   "execution_count": 10,
   "id": "810c1838",
   "metadata": {},
   "outputs": [
    {
     "name": "stdout",
     "output_type": "stream",
     "text": [
      "Sample text: RX ginocchio destro\n",
      "Non evidenti rime di frattura in atto.\n",
      "Conservati i rapporti articolari.\n"
     ]
    }
   ],
   "source": [
    "sample_text = sample['text']\n",
    "print(f\"Sample text: {sample_text}\")"
   ]
  },
  {
   "cell_type": "code",
   "execution_count": 11,
   "id": "eec859c2",
   "metadata": {},
   "outputs": [
    {
     "data": {
      "image/png": "[encoded data removed]",
      "text/plain": [
       "<Figure size 640x480 with 1 Axes>"
      ]
     },
     "metadata": {},
     "output_type": "display_data"
    }
   ],
   "source": [
    "sample_images = sample['pixel_values']\n",
    "# Display the first image in the sample\n",
    "if sample_images:\n",
    "    plt.imshow(sample_images[1].permute(1, 2, 0).numpy())\n",
    "    plt.axis('off')\n",
    "    plt.title(f\"Sample Image from Case ID: {sample['case_id']}\")\n",
    "    plt.show()"
   ]
  }
 ],
 "metadata": {
  "kernelspec": {
   "display_name": "THESIS (.thesis_venv)",
   "language": "python",
   "name": ".thesis_venv"
  },
  "language_info": {
   "codemirror_mode": {
    "name": "ipython",
    "version": 3
   },
   "file_extension": ".py",
   "mimetype": "text/x-python",
   "name": "python",
   "nbconvert_exporter": "python",
   "pygments_lexer": "ipython3",
   "version": "3.12.10"
  }
 },
 "nbformat": 4,
 "nbformat_minor": 5
}
